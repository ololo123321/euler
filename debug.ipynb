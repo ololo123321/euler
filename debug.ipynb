{
 "cells": [
  {
   "cell_type": "code",
   "execution_count": 63,
   "metadata": {},
   "outputs": [],
   "source": [
    "def multiplier(x):\n",
    "    return 1 if x % 4 == 1 or x % 4 == 2 else -1\n",
    "\n",
    "\n",
    "def generalized_pentagonal_numbers_generator():\n",
    "    k = 1\n",
    "    while True:\n",
    "        if k < 0:\n",
    "            k = abs(k) + 1\n",
    "        else:\n",
    "            k *= -1\n",
    "        yield int((3*k**2 - k) / 2)\n",
    "\n",
    "\n",
    "def\n",
    "numbers = [1]\n",
    "gen = generalized_pentagonal_numbers_generator()\n",
    "m_next = next(gen)\n",
    "d = {0: 1}\n",
    "n = 1\n",
    "q = 1\n",
    "while True:\n",
    "    if n == m_next:\n",
    "        numbers.append(n)\n",
    "        m_next = next(gen)\n",
    "    coefs = [n - i for i in numbers]\n",
    "    q = sum(multiplier(i) * d[j] for i, j in enumerate(coefs, 1))\n",
    "    d[n] = q\n",
    "    if n == 100:\n",
    "        break\n",
    "    n += 1"
   ]
  },
  {
   "cell_type": "code",
   "execution_count": 64,
   "metadata": {},
   "outputs": [
    {
     "data": {
      "text/plain": [
       "190569291"
      ]
     },
     "execution_count": 64,
     "metadata": {},
     "output_type": "execute_result"
    }
   ],
   "source": [
    "d[100] - 1"
   ]
  },
  {
   "cell_type": "code",
   "execution_count": 46,
   "metadata": {},
   "outputs": [
    {
     "data": {
      "text/plain": [
       "7295372"
      ]
     },
     "execution_count": 46,
     "metadata": {},
     "output_type": "execute_result"
    }
   ],
   "source": [
    "i"
   ]
  },
  {
   "cell_type": "code",
   "execution_count": null,
   "metadata": {
    "collapsed": true
   },
   "outputs": [],
   "source": []
  },
  {
   "cell_type": "code",
   "execution_count": null,
   "metadata": {
    "collapsed": true
   },
   "outputs": [],
   "source": []
  }
 ],
 "metadata": {
  "kernelspec": {
   "display_name": "Python 3",
   "language": "python",
   "name": "python3"
  },
  "language_info": {
   "codemirror_mode": {
    "name": "ipython",
    "version": 3
   },
   "file_extension": ".py",
   "mimetype": "text/x-python",
   "name": "python",
   "nbconvert_exporter": "python",
   "pygments_lexer": "ipython3",
   "version": "3.6.1"
  }
 },
 "nbformat": 4,
 "nbformat_minor": 2
}
