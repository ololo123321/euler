{
 "cells": [
  {
   "cell_type": "code",
   "execution_count": 1,
   "metadata": {},
   "outputs": [],
   "source": [
    "from math import atan2, cos, sin\n",
    "\n",
    "def get_distance(A, B):\n",
    "    xa, ya = A\n",
    "    xb, yb = B\n",
    "    return ((xa-xb)**2 + (ya-yb)**2)**0.5\n",
    "\n",
    "def get_third_point(A, B, C):\n",
    "    xa, ya = A\n",
    "    xb, yb = B\n",
    "    d = ((xa - xb)**2 + (ya - yb)**2)**0.5\n",
    "    theta = atan2(yb-ya, xb-xa)\n",
    "    xc2 = 0.5 * d**2 / d\n",
    "    yc21 = 0.5 * 3**0.5 * d\n",
    "    yc22 = -yc21\n",
    "    C1 = xc2 * cos(theta) - yc21 * sin(theta) + xa, xc2 * sin(theta) + yc21 * cos(theta) + ya\n",
    "    C2 = xc2 * cos(theta) - yc22 * sin(theta) + xa, xc2 * sin(theta) + yc22 * cos(theta) + ya\n",
    "    d1, d2 = get_distance(C, C1), get_distance(C, C2) \n",
    "    if d1 > d2:\n",
    "        return C1\n",
    "    return C2\n",
    "\n",
    "def get_kb(xa, ya, xb, yb):\n",
    "    k = (yb - ya) / (xb - xa)\n",
    "    return k, ya - xa * k\n",
    "    \n",
    "def get_intersection_point(A, B, C, D):\n",
    "    \"\"\"\n",
    "    A, B - одна прямая; С,D - другая\n",
    "    \"\"\"\n",
    "    xa, ya = A\n",
    "    xb, yb = B\n",
    "    xc, yc = C\n",
    "    xd, yd = D\n",
    "    if (xa == xb and xc == xd) or (ya == yb and yc == yd):\n",
    "        print('lines are parallel!')\n",
    "        return\n",
    "    if xa != xb and ya != yb and xc != xd and yc != yd:\n",
    "        k0, b0 = get_kb(xa, ya, xb, yb)\n",
    "        k1, b1 = get_kb(xc, yc, xd, yd)\n",
    "        xi = (b1 - b0) / (k0 - k1)\n",
    "        return xi, k0 * xi + b0\n",
    "    if xa == xb and yc != yd:\n",
    "        k, b = get_kb(xc, yc, xd, yd)\n",
    "        return xa, k*xa + b\n",
    "    if xc == xd and ya != yb:\n",
    "        k, b = get_kb(xa, ya, xb, yb)\n",
    "        return xc, k*xc + b\n",
    "    if ya == yb and xc != xd:\n",
    "        k, b = get_kb(xc, yc, xd, yd)\n",
    "        return (ya - b) / k, ya\n",
    "    if yc == yd and xa != xa:\n",
    "        k, b = get_kb(xa, ya, xb, yb)\n",
    "        return (yc - b) / k, yc\n",
    "    if xa == xb and yc == yd:\n",
    "        return xa, yc\n",
    "    if xc == xd and ya == yb:\n",
    "        return xc, ya\n",
    "    \n",
    "def main(A, B, C):\n",
    "    D = get_third_point(A, B, C)\n",
    "    E = get_third_point(B, C, A)\n",
    "    return get_intersection_point(A, E, C, D)"
   ]
  },
  {
   "cell_type": "code",
   "execution_count": 2,
   "metadata": {
    "collapsed": true
   },
   "outputs": [],
   "source": [
    "%matplotlib inline\n",
    "from matplotlib import pyplot as plt"
   ]
  },
  {
   "cell_type": "code",
   "execution_count": 7,
   "metadata": {},
   "outputs": [
    {
     "data": {
      "image/png": "[encoded data removed]",
      "text/plain": [
       "<matplotlib.figure.Figure at 0x7f8683df2080>"
      ]
     },
     "metadata": {},
     "output_type": "display_data"
    }
   ],
   "source": [
    "A = 1,0\n",
    "B = 5,1\n",
    "C = 9,0\n",
    "D = get_third_point(A, B, C)\n",
    "E = get_third_point(B, C, A)\n",
    "F = get_intersection_point(A, E, C, D)\n",
    "plt.plot(*zip(A,B), 'ro-')\n",
    "plt.plot(*zip(A,C), 'ro-')\n",
    "plt.plot(*zip(B,C), 'ro-')\n",
    "plt.plot(*zip(C,D), 'ro-')\n",
    "plt.plot(*zip(A,E), 'ro-')\n",
    "plt.plot(*F, marker='o');"
   ]
  },
  {
   "cell_type": "code",
   "execution_count": 6,
   "metadata": {},
   "outputs": [
    {
     "data": {
      "text/plain": [
       "(1.4142135623730951, 1.4142135623730951, 1.4142135623730951)"
      ]
     },
     "execution_count": 6,
     "metadata": {},
     "output_type": "execute_result"
    }
   ],
   "source": [
    "get_distance(B, C), get_distance(B, E), get_distance(C, E)"
   ]
  }
 ],
 "metadata": {
  "kernelspec": {
   "display_name": "Python 3",
   "language": "python",
   "name": "python3"
  },
  "language_info": {
   "codemirror_mode": {
    "name": "ipython",
    "version": 3
   },
   "file_extension": ".py",
   "mimetype": "text/x-python",
   "name": "python",
   "nbconvert_exporter": "python",
   "pygments_lexer": "ipython3",
   "version": "3.6.1"
  }
 },
 "nbformat": 4,
 "nbformat_minor": 2
}
